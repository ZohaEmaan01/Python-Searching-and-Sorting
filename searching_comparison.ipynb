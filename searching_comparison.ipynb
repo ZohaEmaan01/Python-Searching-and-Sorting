{
  "nbformat": 4,
  "nbformat_minor": 0,
  "metadata": {
    "colab": {
      "provenance": []
    },
    "kernelspec": {
      "name": "python3",
      "display_name": "Python 3"
    },
    "language_info": {
      "name": "python"
    }
  },
  "cells": [
    {
      "cell_type": "markdown",
      "source": [
        "Linear search works correctly on both sorted and unsorted arrays. Binary search, jump search, interpolation search, and exponential search require the array to be sorted for correct results. Using these algorithms on unsorted arrays may lead to incorrect behavior."
      ],
      "metadata": {
        "id": "wi09fnVg33DR"
      }
    },
    {
      "cell_type": "markdown",
      "source": [
        "**Linear Search VS Binary Search**"
      ],
      "metadata": {
        "id": "-7vmwd2f4Prr"
      }
    },
    {
      "cell_type": "code",
      "execution_count": 24,
      "metadata": {
        "colab": {
          "base_uri": "https://localhost:8080/"
        },
        "id": "YAGB78rIvSjT",
        "outputId": "a0d36cfe-28ef-4c5d-88a6-11b260318457"
      },
      "outputs": [
        {
          "output_type": "stream",
          "name": "stdout",
          "text": [
            "Unsorted Array:\n",
            "Linear Search: Found\n",
            "Binary Search: Found\n",
            "Linear Search Time (Unsorted): 0.00011372566223144531\n",
            "Binary Search Time (Unsorted): 9.274482727050781e-05\n",
            "\n",
            "Sorted Array:\n",
            "Linear Search: Found\n",
            "Binary Search: Found\n",
            "Linear Search Time (Sorted): 0.00012135505676269531\n",
            "Binary Search Time (Sorted): 9.250640869140625e-05\n"
          ]
        }
      ],
      "source": [
        "import searching as ss\n",
        "import random\n",
        "import time\n",
        "\n",
        "arr = [random.randint(0, 1000) for _ in range(100)]\n",
        "target = random.choice(arr)\n",
        "\n",
        "# Search in unsorted array\n",
        "start_time = time.time()\n",
        "linear_search_index_unsorted = ss.linear_search(arr, target)\n",
        "linear_search_time_unsorted = time.time() - start_time\n",
        "\n",
        "start_time = time.time()\n",
        "binary_search_index_unsorted = ss.binary_search(arr, target)\n",
        "binary_search_time_unsorted = time.time() - start_time\n",
        "\n",
        "# Sort the array\n",
        "sorted_arr = sorted(arr)\n",
        "\n",
        "# Search in sorted array\n",
        "start_time = time.time()\n",
        "linear_search_index_sorted = ss.linear_search(sorted_arr, target)\n",
        "linear_search_time_sorted = time.time() - start_time\n",
        "\n",
        "start_time = time.time()\n",
        "binary_search_index_sorted = ss.binary_search(sorted_arr, target)\n",
        "binary_search_time_sorted = time.time() - start_time\n",
        "\n",
        "print(\"Unsorted Array:\")\n",
        "print(f\"Linear Search: {'Found' if linear_search_index_unsorted != -1 else 'Not found'}\")\n",
        "print(f\"Binary Search: {'Found' if binary_search_index_unsorted != -1 else 'Not found'}\")\n",
        "print(f\"Linear Search Time (Unsorted): {linear_search_time_unsorted}\")\n",
        "print(f\"Binary Search Time (Unsorted): {binary_search_time_unsorted}\")\n",
        "\n",
        "print(\"\\nSorted Array:\")\n",
        "print(f\"Linear Search: {'Found' if linear_search_index_sorted != -1 else 'Not found'}\")\n",
        "print(f\"Binary Search: {'Found' if binary_search_index_sorted != -1 else 'Not found'}\")\n",
        "print(f\"Linear Search Time (Sorted): {linear_search_time_sorted}\")\n",
        "print(f\"Binary Search Time (Sorted): {binary_search_time_sorted}\")"
      ]
    },
    {
      "cell_type": "markdown",
      "source": [
        "**Jump Search VS Interpolation Search**"
      ],
      "metadata": {
        "id": "M3aUTnOy4ZqE"
      }
    },
    {
      "cell_type": "code",
      "source": [
        "arr = [random.randint(0, 1000) for _ in range(100)]\n",
        "target = random.choice(arr)\n",
        "\n",
        "# Search in unsorted array\n",
        "start_time = time.time()\n",
        "jump_search_found_unsorted = ss.jump_search(arr, target)\n",
        "jump_search_time_unsorted = time.time() - start_time\n",
        "\n",
        "start_time = time.time()\n",
        "interpolation_search_found_unsorted = ss.interpolation_search(arr, target)\n",
        "interpolation_search_time_unsorted = time.time() - start_time\n",
        "\n",
        "# Sort the array\n",
        "sorted_arr = sorted(arr)\n",
        "\n",
        "# Search in sorted array\n",
        "start_time = time.time()\n",
        "jump_search_found_sorted = ss.jump_search(sorted_arr, target)\n",
        "jump_search_time_sorted = time.time() - start_time\n",
        "\n",
        "start_time = time.time()\n",
        "interpolation_search_found_sorted = ss.interpolation_search(sorted_arr, target)\n",
        "interpolation_search_time_sorted = time.time() - start_time\n",
        "\n",
        "print(\"Unsorted Array:\")\n",
        "print(f\"Jump Search: {'Found' if jump_search_found_unsorted else 'Not found'}\")\n",
        "print(f\"Interpolation Search: {'Found' if interpolation_search_found_unsorted else 'Not found'}\")\n",
        "print(f\"Jump Search Time (Unsorted): {jump_search_time_unsorted}\")\n",
        "print(f\"Interpolation Search Time (Unsorted): {interpolation_search_time_unsorted}\")\n",
        "\n",
        "print(\"\\nSorted Array:\")\n",
        "print(f\"Jump Search: {'Found' if jump_search_found_sorted else 'Not found'}\")\n",
        "print(f\"Interpolation Search: {'Found' if interpolation_search_found_sorted else 'Not found'}\")\n",
        "print(f\"Jump Search Time (Sorted): {jump_search_time_sorted}\")\n",
        "print(f\"Interpolation Search Time (Sorted): {interpolation_search_time_sorted}\")"
      ],
      "metadata": {
        "colab": {
          "base_uri": "https://localhost:8080/"
        },
        "id": "_X_CLImnx5Dc",
        "outputId": "03f5f63b-bc63-4d78-ae8f-1bc0766b4411"
      },
      "execution_count": 18,
      "outputs": [
        {
          "output_type": "stream",
          "name": "stdout",
          "text": [
            "Unsorted Array:\n",
            "Jump Search: Found\n",
            "Interpolation Search: Found\n",
            "Jump Search Time (Unsorted): 6.866455078125e-05\n",
            "Interpolation Search Time (Unsorted): 5.2928924560546875e-05\n",
            "\n",
            "Sorted Array:\n",
            "Jump Search: Found\n",
            "Interpolation Search: Found\n",
            "Jump Search Time (Sorted): 5.7220458984375e-05\n",
            "Interpolation Search Time (Sorted): 4.935264587402344e-05\n"
          ]
        }
      ]
    },
    {
      "cell_type": "markdown",
      "source": [
        "**Binary Search VS Exponential Search**"
      ],
      "metadata": {
        "id": "vTGO9NB04qAZ"
      }
    },
    {
      "cell_type": "code",
      "source": [
        "arr = [random.randint(0, 1000) for _ in range(10000)]\n",
        "target = random.choice(arr)\n",
        "\n",
        "# Search in unsorted array\n",
        "start_time = time.time()\n",
        "binary_search_found_unsorted = ss.binary_search(arr, target)\n",
        "binary_search_time_unsorted = time.time() - start_time\n",
        "\n",
        "start_time = time.time()\n",
        "exponential_search_found_unsorted = ss.exponential_search(arr, target)\n",
        "exponential_search_time_unsorted = time.time() - start_time\n",
        "\n",
        "# Sort the array\n",
        "sorted_arr = sorted(arr)\n",
        "\n",
        "# Search in sorted array\n",
        "start_time = time.time()\n",
        "binary_search_found_sorted = ss.binary_search(sorted_arr, target)\n",
        "binary_search_time_sorted = time.time() - start_time\n",
        "\n",
        "start_time = time.time()\n",
        "exponential_search_found_sorted = ss.exponential_search(sorted_arr, target)\n",
        "exponential_search_time_sorted = time.time() - start_time\n",
        "\n",
        "print(\"Unsorted Array:\")\n",
        "print(f\"Binary Search: {'Found' if binary_search_found_unsorted else 'Not found'}\")\n",
        "print(f\"Exponential Search: {'Found' if exponential_search_found_unsorted else 'Not found'}\")\n",
        "print(f\"Binary Search Time (Unsorted): {binary_search_time_unsorted}\")\n",
        "print(f\"Exponential Search Time (Unsorted): {exponential_search_time_unsorted}\")\n",
        "\n",
        "print(\"\\nSorted Array:\")\n",
        "print(f\"Binary Search: {'Found' if binary_search_found_sorted else 'Not found'}\")\n",
        "print(f\"Exponential Search: {'Found' if exponential_search_found_sorted else 'Not found'}\")\n",
        "print(f\"Binary Search Time (Sorted): {binary_search_time_sorted}\")\n",
        "print(f\"Exponential Search Time (Sorted): {exponential_search_time_sorted}\")"
      ],
      "metadata": {
        "colab": {
          "base_uri": "https://localhost:8080/"
        },
        "id": "fekkDMfi0HuD",
        "outputId": "f82cdf8b-45a8-4147-f89f-1682dfb92e6a"
      },
      "execution_count": 19,
      "outputs": [
        {
          "output_type": "stream",
          "name": "stdout",
          "text": [
            "Unsorted Array:\n",
            "Binary Search: Found\n",
            "Exponential Search: Found\n",
            "Binary Search Time (Unsorted): 8.654594421386719e-05\n",
            "Exponential Search Time (Unsorted): 0.0001266002655029297\n",
            "\n",
            "Sorted Array:\n",
            "Binary Search: Found\n",
            "Exponential Search: Found\n",
            "Binary Search Time (Sorted): 7.176399230957031e-05\n",
            "Exponential Search Time (Sorted): 0.00011467933654785156\n"
          ]
        }
      ]
    },
    {
      "cell_type": "markdown",
      "source": [
        "**Linear Search VS Interpolation Search**"
      ],
      "metadata": {
        "id": "JqUqjJ2A4yoE"
      }
    },
    {
      "cell_type": "code",
      "source": [
        "arr = [random.randint(0, 1000) for _ in range(10000)]\n",
        "target = random.choice(arr)\n",
        "\n",
        "# Search in unsorted array\n",
        "start_time = time.time()\n",
        "linear_search_found_unsorted = ss.linear_search(arr, target)\n",
        "linear_search_time_unsorted = time.time() - start_time\n",
        "\n",
        "start_time = time.time()\n",
        "interpolation_search_found_unsorted = ss.interpolation_search(arr, target)\n",
        "interpolation_search_time_unsorted = time.time() - start_time\n",
        "\n",
        "# Sort the array\n",
        "sorted_arr = sorted(arr)\n",
        "\n",
        "# Search in sorted array\n",
        "start_time = time.time()\n",
        "linear_search_found_sorted = ss.linear_search(sorted_arr, target)\n",
        "linear_search_time_sorted = time.time() - start_time\n",
        "\n",
        "start_time = time.time()\n",
        "interpolation_search_found_sorted = ss.interpolation_search(sorted_arr, target)\n",
        "interpolation_search_time_sorted = time.time() - start_time\n",
        "\n",
        "print(\"Unsorted Array:\")\n",
        "print(f\"Linear Search: {'Found' if linear_search_found_unsorted else 'Not found'}\")\n",
        "print(f\"Interpolation Search: {'Found' if interpolation_search_found_unsorted else 'Not found'}\")\n",
        "print(f\"Linear Search Time (Unsorted): {linear_search_time_unsorted}\")\n",
        "print(f\"Interpolation Search Time (Unsorted): {interpolation_search_time_unsorted}\")\n",
        "\n",
        "print(\"\\nSorted Array:\")\n",
        "print(f\"Linear Search: {'Found' if linear_search_found_sorted else 'Not found'}\")\n",
        "print(f\"Interpolation Search: {'Found' if interpolation_search_found_sorted else 'Not found'}\")\n",
        "print(f\"Linear Search Time (Sorted): {linear_search_time_sorted}\")\n",
        "print(f\"Interpolation Search Time (Sorted): {interpolation_search_time_sorted}\")"
      ],
      "metadata": {
        "colab": {
          "base_uri": "https://localhost:8080/"
        },
        "id": "iFSqJVj-1Cxm",
        "outputId": "f26b9728-1832-4ca0-c34f-2a58c4477fb1"
      },
      "execution_count": 21,
      "outputs": [
        {
          "output_type": "stream",
          "name": "stdout",
          "text": [
            "Unsorted Array:\n",
            "Linear Search: Found\n",
            "Interpolation Search: Found\n",
            "Linear Search Time (Unsorted): 0.00015425682067871094\n",
            "Interpolation Search Time (Unsorted): 6.4849853515625e-05\n",
            "\n",
            "Sorted Array:\n",
            "Linear Search: Found\n",
            "Interpolation Search: Found\n",
            "Linear Search Time (Sorted): 0.00014090538024902344\n",
            "Interpolation Search Time (Sorted): 7.2479248046875e-05\n"
          ]
        }
      ]
    }
  ]
}