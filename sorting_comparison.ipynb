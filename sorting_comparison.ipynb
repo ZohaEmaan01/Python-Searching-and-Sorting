{
  "nbformat": 4,
  "nbformat_minor": 0,
  "metadata": {
    "colab": {
      "provenance": []
    },
    "kernelspec": {
      "name": "python3",
      "display_name": "Python 3"
    },
    "language_info": {
      "name": "python"
    }
  },
  "cells": [
    {
      "cell_type": "markdown",
      "source": [
        "**Bubble Sort VS Merge Sort**\n"
      ],
      "metadata": {
        "id": "pXRTYxZfrtnd"
      }
    },
    {
      "cell_type": "code",
      "execution_count": null,
      "metadata": {
        "colab": {
          "base_uri": "https://localhost:8080/"
        },
        "id": "VltsiF19n-Cv",
        "outputId": "c0300e75-46ec-4715-961b-a1bfebe3b9ff"
      },
      "outputs": [
        {
          "output_type": "stream",
          "name": "stdout",
          "text": [
            "Bubble Sort Time: 11.70020580291748\n",
            "Merge Sort Time: 0.044435739517211914\n",
            "Bubble Sort Time: 0.09567880630493164\n",
            "Merge Sort Time: 0.003480195999145508\n"
          ]
        }
      ],
      "source": [
        "import sorting as ss\n",
        "import random\n",
        "import time\n",
        "\n",
        "arr = [random.randint(0, 1000) for _ in range(10000)]\n",
        "\n",
        "#time taken by bubble sort\n",
        "start_time=time.time()\n",
        "sorted_bubble=ss.bubble_sort(arr.copy())\n",
        "bubble_time=time.time()-start_time\n",
        "\n",
        "#time taken by merge sort\n",
        "start_time=time.time()\n",
        "sorted_merge=ss.merge_sort(arr.copy())\n",
        "merge_time=time.time()-start_time\n",
        "\n",
        "print(f\"Bubble Sort Time: {bubble_time}\")\n",
        "print(f\"Merge Sort Time: {merge_time}\")\n",
        "\n",
        "arr = [random.randint(0, 1000) for _ in range(1000)]\n",
        "\n",
        "#time taken by bubble sort\n",
        "start_time=time.time()\n",
        "sorted_bubble=ss.bubble_sort(arr.copy())\n",
        "bubble_time=time.time()-start_time\n",
        "\n",
        "#time taken by merge sort\n",
        "start_time=time.time()\n",
        "sorted_merge=ss.merge_sort(arr.copy())\n",
        "merge_time=time.time()-start_time\n",
        "\n",
        "print(f\"Bubble Sort Time: {bubble_time}\")\n",
        "print(f\"Merge Sort Time: {merge_time}\")"
      ]
    },
    {
      "cell_type": "markdown",
      "source": [
        "**Merge Sort VS Quick Sort**\n"
      ],
      "metadata": {
        "id": "JZxZSQuRrryu"
      }
    },
    {
      "cell_type": "code",
      "source": [
        "arr=[random.randint(0,1000) for _ in range(10000)]\n",
        "\n",
        "#time taken by the merge sort\n",
        "start_time=time.time()\n",
        "sorted_merge=ss.merge_sort(arr.copy())\n",
        "merge_time=time.time()-start_time\n",
        "\n",
        "#time taken by the quick sort\n",
        "start_time=time.time()\n",
        "sorted_quick=ss.quick_sort(arr.copy())\n",
        "quick_time=time.time()-start_time\n",
        "\n",
        "print(f\"Merge Sort Time: {merge_time}\")\n",
        "print(f\"Quick Sort Time: {quick_time}\")\n",
        "\n",
        "arr=[random.randint(0,1000) for _ in range(1000)]\n",
        "\n",
        "#time taken by the merge sort\n",
        "start_time=time.time()\n",
        "sorted_merge=ss.merge_sort(arr.copy())\n",
        "merge_time=time.time()-start_time\n",
        "\n",
        "#time taken by the quick sort\n",
        "start_time=time.time()\n",
        "sorted_quick=ss.quick_sort(arr.copy())\n",
        "quick_time=time.time()-start_time\n",
        "\n",
        "print(f\"Merge Sort Time: {merge_time}\")\n",
        "print(f\"Quick Sort Time: {quick_time}\")"
      ],
      "metadata": {
        "colab": {
          "base_uri": "https://localhost:8080/"
        },
        "id": "4JfeP_sEplMX",
        "outputId": "f280eae9-3cc0-4d5d-851e-8301b59979c9"
      },
      "execution_count": null,
      "outputs": [
        {
          "output_type": "stream",
          "name": "stdout",
          "text": [
            "Merge Sort Time: 0.04662179946899414\n",
            "Quick Sort Time: 0.018741607666015625\n",
            "Merge Sort Time: 0.0036919116973876953\n",
            "Quick Sort Time: 0.004667997360229492\n"
          ]
        }
      ]
    },
    {
      "cell_type": "markdown",
      "source": [
        "**Selection Sort VS Insertion Sort**"
      ],
      "metadata": {
        "id": "Bg5-ioHCs-5f"
      }
    },
    {
      "cell_type": "code",
      "source": [
        "arr=[random.randint(0,1000) for _ in range(10000)]\n",
        "\n",
        "#time taken by the selection sort\n",
        "start_time=time.time()\n",
        "sorted_selection=ss.selection_sort(arr.copy())\n",
        "selection_time=time.time()-start_time\n",
        "\n",
        "#time taken by the insertion sort\n",
        "start_time=time.time()\n",
        "sorted_insertion=ss.insertion_sort(arr.copy())\n",
        "insertion_time=time.time()-start_time\n",
        "\n",
        "print(f\"Selection Sort Time: {selection_time}\")\n",
        "print(f\"Insertion Sort Time: {insertion_time}\")\n",
        "\n",
        "arr=[random.randint(0,1000) for _ in range(1000)]\n",
        "\n",
        "#time taken by the selection sort\n",
        "start_time=time.time()\n",
        "sorted_selection=ss.selection_sort(arr.copy())\n",
        "selection_time=time.time()-start_time\n",
        "\n",
        "#time taken by the insertion sort\n",
        "start_time=time.time()\n",
        "sorted_insertion=ss.insertion_sort(arr.copy())\n",
        "insertion_time=time.time()-start_time\n",
        "\n",
        "print(f\"Selection Sort Time: {selection_time}\")\n",
        "print(f\"Insertion Sort Time: {insertion_time}\")"
      ],
      "metadata": {
        "colab": {
          "base_uri": "https://localhost:8080/"
        },
        "id": "d_UsrYNorH8Q",
        "outputId": "e501d043-c2f8-4877-9283-9f1bb2c537bf"
      },
      "execution_count": null,
      "outputs": [
        {
          "output_type": "stream",
          "name": "stdout",
          "text": [
            "Selection Sort Time: 6.005544185638428\n",
            "Insertion Sort Time: 4.716985702514648\n",
            "Selection Sort Time: 0.04488825798034668\n",
            "Insertion Sort Time: 0.04381847381591797\n"
          ]
        }
      ]
    },
    {
      "cell_type": "markdown",
      "source": [
        "**Bubble Sort VS Selection Sort**"
      ],
      "metadata": {
        "id": "fdVlADzpuNSx"
      }
    },
    {
      "cell_type": "code",
      "source": [
        "arr=[random.randint(0,1000) for _ in range(10000)]\n",
        "\n",
        "#time taken by bubble sort\n",
        "start_time=time.time()\n",
        "sorted_bubble=ss.bubble_sort(arr.copy())\n",
        "bubble_time=time.time()-start_time\n",
        "\n",
        "#time taken by the selection sort\n",
        "start_time=time.time()\n",
        "sorted_selection=ss.selection_sort(arr.copy())\n",
        "selection_time=time.time()-start_time\n",
        "\n",
        "print(f\"Bubble Sort Time: {bubble_time}\")\n",
        "print(f\"Selection Sort Time: {selection_time}\")\n",
        "\n",
        "arr=[random.randint(0,1000) for _ in range(1000)]\n",
        "\n",
        "#time taken by bubble sort\n",
        "start_time=time.time()\n",
        "sorted_bubble=ss.bubble_sort(arr.copy())\n",
        "bubble_time=time.time()-start_time\n",
        "\n",
        "#time taken by the selection sort\n",
        "start_time=time.time()\n",
        "sorted_selection=ss.selection_sort(arr.copy())\n",
        "selection_time=time.time()-start_time\n",
        "\n",
        "print(f\"Bubble Sort Time: {bubble_time}\")\n",
        "print(f\"Selection Sort Time: {selection_time}\")"
      ],
      "metadata": {
        "colab": {
          "base_uri": "https://localhost:8080/"
        },
        "id": "j1oVDHQ7srW3",
        "outputId": "8f05e15e-16e4-484d-f4bd-a288bcf41118"
      },
      "execution_count": null,
      "outputs": [
        {
          "output_type": "stream",
          "name": "stdout",
          "text": [
            "Bubble Sort Time: 13.640648603439331\n",
            "Selection Sort Time: 4.5644261837005615\n",
            "Bubble Sort Time: 0.09570455551147461\n",
            "Selection Sort Time: 0.05019712448120117\n"
          ]
        }
      ]
    }
  ]
}